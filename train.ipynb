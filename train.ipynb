{
 "cells": [
  {
   "cell_type": "code",
   "execution_count": 37,
   "metadata": {},
   "outputs": [],
   "source": [
    "import joblib\n",
    "import torch\n",
    "import torch.nn as nn\n",
    "from dataset import CircleImageDataset\n",
    "from torch.utils.data import DataLoader\n",
    "from utils import CircleParams\n",
    "from metrics import thresholded_iou\n",
    "import numpy as np\n",
    "\n",
    "import matplotlib.pyplot as plt\n",
    "from model import CNN"
   ]
  },
  {
   "cell_type": "code",
   "execution_count": 38,
   "metadata": {},
   "outputs": [],
   "source": [
    "if torch.cuda.is_available():\n",
    "    device = \"cuda\"\n",
    "elif torch.backends.mps.is_available():\n",
    "    device = \"mps\"\n",
    "else:\n",
    "    device = \"cpu\""
   ]
  },
  {
   "cell_type": "code",
   "execution_count": 39,
   "metadata": {},
   "outputs": [],
   "source": [
    "batch_size = 32 "
   ]
  },
  {
   "cell_type": "code",
   "execution_count": 40,
   "metadata": {},
   "outputs": [],
   "source": [
    "train_dataset = CircleImageDataset(max_noise=0.6, device=device,)\n",
    "test_dataset = CircleImageDataset(fixed=True, max_noise=0.6, img_transform=train_dataset.img_transform, device=device)\n",
    "\n",
    "train_dataloader = DataLoader(train_dataset, batch_size=batch_size)\n",
    "test_dataloader = DataLoader(test_dataset)"
   ]
  },
  {
   "cell_type": "code",
   "execution_count": 48,
   "metadata": {},
   "outputs": [],
   "source": [
    "net = CNN()\n",
    "net.to(device)\n",
    "\n",
    "optimizer = torch.optim.Adam(net.parameters(), lr=3e-4)"
   ]
  },
  {
   "cell_type": "code",
   "execution_count": 49,
   "metadata": {},
   "outputs": [],
   "source": [
    "criterion = nn.MSELoss()"
   ]
  },
  {
   "cell_type": "code",
   "execution_count": 50,
   "metadata": {},
   "outputs": [
    {
     "name": "stdout",
     "output_type": "stream",
     "text": [
      "train_loss 1.0923376567661762, val_loss:  0.002\n",
      "train_loss 1.0157399382442236, val_loss:  0.001\n",
      "train_loss 1.0505313035100698, val_loss:  0.002\n",
      "model saved at epoch 3, metric: 0.003\n",
      "train_loss 1.0027767587453127, val_loss:  0.003\n",
      "model saved at epoch 4, metric: 0.004\n",
      "train_loss 0.8463363777846098, val_loss:  0.004\n",
      "model saved at epoch 5, metric: 0.009\n",
      "train_loss 0.6635364834219217, val_loss:  0.009\n",
      "model saved at epoch 6, metric: 0.034\n",
      "train_loss 0.5428057322278619, val_loss:  0.034\n",
      "model saved at epoch 7, metric: 0.049\n",
      "train_loss 0.4271703874692321, val_loss:  0.049\n",
      "model saved at epoch 8, metric: 0.063\n",
      "train_loss 0.3398630111478269, val_loss:  0.063\n",
      "model saved at epoch 9, metric: 0.104\n",
      "train_loss 0.27654728991910815, val_loss:  0.104\n",
      "model saved at epoch 10, metric: 0.132\n",
      "train_loss 0.27596983406692743, val_loss:  0.132\n",
      "model saved at epoch 11, metric: 0.185\n",
      "train_loss 0.24627124099060893, val_loss:  0.185\n",
      "model saved at epoch 12, metric: 0.198\n",
      "train_loss 0.23843856062740088, val_loss:  0.198\n",
      "model saved at epoch 13, metric: 0.251\n",
      "train_loss 0.1780610040295869, val_loss:  0.251\n",
      "model saved at epoch 14, metric: 0.28\n",
      "train_loss 0.16611614706926048, val_loss:  0.28\n",
      "model saved at epoch 15, metric: 0.351\n",
      "train_loss 0.1361280290875584, val_loss:  0.351\n",
      "model saved at epoch 16, metric: 0.381\n",
      "train_loss 0.13812384568154812, val_loss:  0.381\n",
      "model saved at epoch 17, metric: 0.433\n",
      "train_loss 0.10762395232450217, val_loss:  0.433\n",
      "train_loss 0.10229381162207574, val_loss:  0.397\n",
      "train_loss 0.13385921414010227, val_loss:  0.416\n",
      "model saved at epoch 20, metric: 0.435\n",
      "train_loss 0.0981877304147929, val_loss:  0.435\n",
      "model saved at epoch 21, metric: 0.481\n",
      "train_loss 0.09271297487430274, val_loss:  0.481\n",
      "model saved at epoch 22, metric: 0.524\n",
      "train_loss 0.09376950468868017, val_loss:  0.524\n",
      "model saved at epoch 23, metric: 0.565\n",
      "train_loss 0.0800297282403335, val_loss:  0.565\n",
      "model saved at epoch 24, metric: 0.598\n",
      "train_loss 0.08207358291838318, val_loss:  0.598\n",
      "train_loss 0.07555140170734376, val_loss:  0.557\n",
      "train_loss 0.06887055304832757, val_loss:  0.478\n",
      "train_loss 0.09956013015471399, val_loss:  0.557\n",
      "train_loss 0.060005169128999114, val_loss:  0.469\n",
      "train_loss 0.08705496951006353, val_loss:  0.429\n",
      "train_loss 0.0672027871478349, val_loss:  0.557\n",
      "model saved at epoch 31, metric: 0.621\n",
      "train_loss 0.05586966749979183, val_loss:  0.621\n",
      "model saved at epoch 32, metric: 0.66\n",
      "train_loss 0.04574805864831433, val_loss:  0.66\n",
      "train_loss 0.05306335916975513, val_loss:  0.619\n",
      "train_loss 0.06574846024159342, val_loss:  0.462\n",
      "train_loss 0.051353000162635, val_loss:  0.656\n",
      "train_loss 0.04655485902912915, val_loss:  0.638\n",
      "train_loss 0.04827298829331994, val_loss:  0.485\n",
      "model saved at epoch 38, metric: 0.708\n",
      "train_loss 0.04355176544049755, val_loss:  0.708\n",
      "model saved at epoch 39, metric: 0.716\n",
      "train_loss 0.04516622208757326, val_loss:  0.716\n",
      "train_loss 0.04043038666713983, val_loss:  0.688\n",
      "train_loss 0.04855326050892472, val_loss:  0.636\n",
      "train_loss 0.03956627956358716, val_loss:  0.704\n",
      "train_loss 0.04145273202448152, val_loss:  0.692\n",
      "train_loss 0.050568117352668196, val_loss:  0.602\n",
      "train_loss 0.04586897976696491, val_loss:  0.714\n",
      "train_loss 0.03938040722277947, val_loss:  0.67\n",
      "train_loss 0.0550627235788852, val_loss:  0.626\n",
      "model saved at epoch 48, metric: 0.73\n",
      "train_loss 0.04008979754871689, val_loss:  0.73\n",
      "model saved at epoch 49, metric: 0.758\n",
      "train_loss 0.03496209948207252, val_loss:  0.758\n",
      "train_loss 0.03168800502317026, val_loss:  0.716\n",
      "model saved at epoch 51, metric: 0.78\n",
      "train_loss 0.033577520109247416, val_loss:  0.78\n",
      "train_loss 0.03576087663532235, val_loss:  0.759\n",
      "train_loss 0.03467270964756608, val_loss:  0.671\n",
      "train_loss 0.03230816969880834, val_loss:  0.722\n",
      "train_loss 0.03441170713631436, val_loss:  0.725\n",
      "train_loss 0.03120066030533053, val_loss:  0.751\n",
      "train_loss 0.025956592173315585, val_loss:  0.77\n",
      "train_loss 0.03139609529171139, val_loss:  0.752\n",
      "train_loss 0.02595648035639897, val_loss:  0.765\n",
      "model saved at epoch 60, metric: 0.793\n",
      "train_loss 0.03412403125548735, val_loss:  0.793\n",
      "train_loss 0.0368726986926049, val_loss:  0.709\n",
      "train_loss 0.03361237479839474, val_loss:  0.724\n",
      "train_loss 0.03317563596647233, val_loss:  0.751\n",
      "train_loss 0.03473927595769055, val_loss:  0.744\n",
      "train_loss 0.04584379418520257, val_loss:  0.656\n",
      "train_loss 0.025494947069091722, val_loss:  0.778\n",
      "train_loss 0.029567894438514486, val_loss:  0.759\n",
      "train_loss 0.023622327629709616, val_loss:  0.784\n",
      "train_loss 0.030541495652869344, val_loss:  0.651\n",
      "train_loss 0.02437162195565179, val_loss:  0.79\n",
      "train_loss 0.02905271982308477, val_loss:  0.73\n",
      "train_loss 0.025592085235984996, val_loss:  0.698\n",
      "model saved at epoch 73, metric: 0.794\n",
      "train_loss 0.02694840170443058, val_loss:  0.794\n",
      "train_loss 0.025375022494699806, val_loss:  0.787\n",
      "train_loss 0.020264446939108893, val_loss:  0.652\n",
      "train_loss 0.0221058365132194, val_loss:  0.784\n",
      "model saved at epoch 77, metric: 0.825\n",
      "train_loss 0.019742910721106455, val_loss:  0.825\n",
      "train_loss 0.020452679178561084, val_loss:  0.749\n",
      "train_loss 0.033234789269044995, val_loss:  0.815\n",
      "train_loss 0.024314456357387826, val_loss:  0.757\n",
      "train_loss 0.021470870589837432, val_loss:  0.794\n",
      "train_loss 0.02264070129604079, val_loss:  0.763\n",
      "train_loss 0.02838015151792206, val_loss:  0.761\n",
      "train_loss 0.019636898825410753, val_loss:  0.753\n",
      "train_loss 0.021219033747911453, val_loss:  0.817\n",
      "train_loss 0.01937914322479628, val_loss:  0.819\n",
      "model saved at epoch 87, metric: 0.839\n",
      "train_loss 0.018295766436494887, val_loss:  0.839\n",
      "train_loss 0.022094771353295073, val_loss:  0.832\n",
      "model saved at epoch 89, metric: 0.871\n",
      "train_loss 0.014881728566251695, val_loss:  0.871\n",
      "train_loss 0.019886905007297173, val_loss:  0.808\n",
      "train_loss 0.017313966614892706, val_loss:  0.797\n",
      "train_loss 0.018697025618166663, val_loss:  0.816\n",
      "train_loss 0.02897007265710272, val_loss:  0.814\n",
      "train_loss 0.014903391696861945, val_loss:  0.825\n",
      "train_loss 0.018779914447804913, val_loss:  0.832\n",
      "train_loss 0.016858814327861182, val_loss:  0.758\n",
      "train_loss 0.017674641945632175, val_loss:  0.847\n",
      "model saved at epoch 98, metric: 0.883\n",
      "train_loss 0.015839492654777132, val_loss:  0.883\n",
      "train_loss 0.016474179254146293, val_loss:  0.711\n",
      "train_loss 0.014722692692885175, val_loss:  0.876\n",
      "train_loss 0.015075311952386983, val_loss:  0.867\n",
      "train_loss 0.01744286723260302, val_loss:  0.779\n",
      "train_loss 0.026543672021944076, val_loss:  0.847\n",
      "train_loss 0.016511027613887563, val_loss:  0.869\n",
      "train_loss 0.016508872620761395, val_loss:  0.871\n",
      "train_loss 0.024487189104547724, val_loss:  0.774\n",
      "train_loss 0.022827445674920455, val_loss:  0.783\n",
      "train_loss 0.01847374576027505, val_loss:  0.802\n",
      "train_loss 0.01769392729329411, val_loss:  0.86\n",
      "train_loss 0.025802951829973608, val_loss:  0.789\n",
      "train_loss 0.01815469391294755, val_loss:  0.866\n",
      "train_loss 0.015100088538019918, val_loss:  0.841\n",
      "model saved at epoch 113, metric: 0.884\n",
      "train_loss 0.012574749140185304, val_loss:  0.884\n",
      "train_loss 0.015198991226498038, val_loss:  0.877\n",
      "train_loss 0.013024671643506736, val_loss:  0.846\n",
      "train_loss 0.018299596616998315, val_loss:  0.838\n",
      "train_loss 0.017663459439063445, val_loss:  0.811\n",
      "train_loss 0.02095437256502919, val_loss:  0.779\n",
      "train_loss 0.016790461450000294, val_loss:  0.811\n",
      "train_loss 0.016930508892983198, val_loss:  0.836\n",
      "model saved at epoch 121, metric: 0.892\n",
      "train_loss 0.011363593046553433, val_loss:  0.892\n",
      "model saved at epoch 122, metric: 0.901\n",
      "train_loss 0.011057288138545118, val_loss:  0.901\n",
      "train_loss 0.013179341738577932, val_loss:  0.865\n",
      "train_loss 0.01896450069034472, val_loss:  0.752\n",
      "train_loss 0.01747613583575003, val_loss:  0.848\n",
      "train_loss 0.013559712519054301, val_loss:  0.888\n",
      "train_loss 0.015047879176563583, val_loss:  0.896\n",
      "train_loss 0.011577920900890604, val_loss:  0.85\n",
      "train_loss 0.015065934596350417, val_loss:  0.892\n",
      "train_loss 0.02221352064225357, val_loss:  0.74\n",
      "train_loss 0.03335467091528699, val_loss:  0.732\n",
      "train_loss 0.02013664456899278, val_loss:  0.749\n",
      "train_loss 0.016184924956178293, val_loss:  0.897\n",
      "train_loss 0.015693742272560485, val_loss:  0.871\n",
      "train_loss 0.018548611187725328, val_loss:  0.716\n",
      "train_loss 0.015692793298512697, val_loss:  0.864\n",
      "train_loss 0.010765081606223248, val_loss:  0.882\n",
      "train_loss 0.015048852830659598, val_loss:  0.864\n",
      "train_loss 0.02418704636511393, val_loss:  0.863\n",
      "train_loss 0.023519418289652094, val_loss:  0.748\n",
      "train_loss 0.01673474389826879, val_loss:  0.874\n",
      "model saved at epoch 142, metric: 0.922\n",
      "train_loss 0.011434997650212608, val_loss:  0.922\n",
      "train_loss 0.01217013741552364, val_loss:  0.812\n",
      "train_loss 0.0132202531240182, val_loss:  0.843\n",
      "train_loss 0.013670848507899791, val_loss:  0.852\n",
      "train_loss 0.013585631648311391, val_loss:  0.895\n",
      "train_loss 0.013091058339341544, val_loss:  0.886\n",
      "train_loss 0.008820392653433373, val_loss:  0.909\n",
      "train_loss 0.009456150197365787, val_loss:  0.905\n"
     ]
    }
   ],
   "source": [
    "epochs = 150 \n",
    "losses = []\n",
    "val_losses = []\n",
    "\n",
    "for epoch in range(epochs):\n",
    "    batch_losses = []\n",
    "    net.train()\n",
    "    for i, (imgs, circles) in enumerate(train_dataloader):\n",
    "        optimizer.zero_grad()\n",
    "\n",
    "        y = net(imgs)\n",
    "\n",
    "        loss = criterion(y, circles)\n",
    "        batch_losses.append(loss.item())\n",
    "\n",
    "        loss.backward()\n",
    "\n",
    "        optimizer.step()\n",
    "\n",
    "    losses.append(np.mean(batch_losses))\n",
    "\n",
    "    actual_circles = []\n",
    "    pred_circles = []\n",
    "    net.eval()\n",
    "    for i, (img, circle) in enumerate(test_dataloader):\n",
    "        circle = circle.squeeze()\n",
    "        actual_circles.append(train_dataset.circle_transform.inverse_transform(\n",
    "            CircleParams(radius=circle[0].item(), col=circle[1].item(), row=circle[2].item())))\n",
    "\n",
    "        y = net(img)\n",
    "\n",
    "        rad_mu = y[:, 0].squeeze() # Radius mean\n",
    "        col_mu = y[:, 1].squeeze() # Col mean\n",
    "        row_mu = y[:, 2].squeeze() # Row mean\n",
    "\n",
    "        pred_circles.append(train_dataset.circle_transform.inverse_transform(\n",
    "            CircleParams(radius=rad_mu.item(), row=row_mu.item(), col=col_mu.item())))\n",
    "    \n",
    "    val_loss = thresholded_iou(actual_circles, pred_circles, thresh=0.75)\n",
    "\n",
    "    if val_losses and val_loss > max(val_losses):\n",
    "        print(f'model saved at epoch {epoch}, metric: {val_loss}')\n",
    "        torch.save(net.state_dict(), 'training_checkpoints/best_epoch.pt')\n",
    "\n",
    "    val_losses.append(val_loss)\n",
    "\n",
    "    print(f\"train_loss {losses[-1]}, val_loss:  {val_losses[-1]}\")"
   ]
  },
  {
   "cell_type": "code",
   "execution_count": 56,
   "metadata": {},
   "outputs": [
    {
     "data": {
      "text/plain": [
       "['training_checkpoints/img_transform.joblib']"
      ]
     },
     "execution_count": 56,
     "metadata": {},
     "output_type": "execute_result"
    }
   ],
   "source": [
    "joblib.dump(train_dataset.img_transform, 'training_checkpoints/img_transform.joblib')"
   ]
  },
  {
   "cell_type": "code",
   "execution_count": 53,
   "metadata": {},
   "outputs": [
    {
     "data": {
      "text/plain": [
       "[<matplotlib.lines.Line2D at 0x2e5e36d90>]"
      ]
     },
     "execution_count": 53,
     "metadata": {},
     "output_type": "execute_result"
    },
    {
     "data": {
      "image/png": "[encoded data removed]",
      "text/plain": [
       "<Figure size 640x480 with 1 Axes>"
      ]
     },
     "metadata": {},
     "output_type": "display_data"
    }
   ],
   "source": [
    "plt.plot(losses[5:])"
   ]
  },
  {
   "cell_type": "code",
   "execution_count": 52,
   "metadata": {},
   "outputs": [
    {
     "data": {
      "text/plain": [
       "[<matplotlib.lines.Line2D at 0x29367da10>]"
      ]
     },
     "execution_count": 52,
     "metadata": {},
     "output_type": "execute_result"
    },
    {
     "data": {
      "image/png": "[encoded data removed]",
      "text/plain": [
       "<Figure size 640x480 with 1 Axes>"
      ]
     },
     "metadata": {},
     "output_type": "display_data"
    }
   ],
   "source": [
    "plt.plot(val_losses[5:])"
   ]
  }
 ],
 "metadata": {
  "kernelspec": {
   "display_name": "env",
   "language": "python",
   "name": "python3"
  },
  "language_info": {
   "codemirror_mode": {
    "name": "ipython",
    "version": 3
   },
   "file_extension": ".py",
   "mimetype": "text/x-python",
   "name": "python",
   "nbconvert_exporter": "python",
   "pygments_lexer": "ipython3",
   "version": "3.11.6"
  }
 },
 "nbformat": 4,
 "nbformat_minor": 2
}
